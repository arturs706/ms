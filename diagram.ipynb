{
 "cells": [
  {
   "cell_type": "code",
   "execution_count": 2,
   "metadata": {},
   "outputs": [
    {
     "ename": "ImportError",
     "evalue": "cannot import name 'RouteS3' from 'diagrams.aws.storage' (/Users/artursradionovs/Library/Python/3.9/lib/python/site-packages/diagrams/aws/storage.py)",
     "output_type": "error",
     "traceback": [
      "\u001b[0;31m---------------------------------------------------------------------------\u001b[0m",
      "\u001b[0;31mImportError\u001b[0m                               Traceback (most recent call last)",
      "Cell \u001b[0;32mIn[2], line 5\u001b[0m\n\u001b[1;32m      3\u001b[0m \u001b[38;5;28;01mfrom\u001b[39;00m \u001b[38;5;21;01mdiagrams\u001b[39;00m\u001b[38;5;21;01m.\u001b[39;00m\u001b[38;5;21;01maws\u001b[39;00m\u001b[38;5;21;01m.\u001b[39;00m\u001b[38;5;21;01mdatabase\u001b[39;00m \u001b[38;5;28;01mimport\u001b[39;00m RDS, ElastiCache\n\u001b[1;32m      4\u001b[0m \u001b[38;5;28;01mfrom\u001b[39;00m \u001b[38;5;21;01mdiagrams\u001b[39;00m\u001b[38;5;21;01m.\u001b[39;00m\u001b[38;5;21;01maws\u001b[39;00m\u001b[38;5;21;01m.\u001b[39;00m\u001b[38;5;21;01mnetwork\u001b[39;00m \u001b[38;5;28;01mimport\u001b[39;00m ELB\n\u001b[0;32m----> 5\u001b[0m \u001b[38;5;28;01mfrom\u001b[39;00m \u001b[38;5;21;01mdiagrams\u001b[39;00m\u001b[38;5;21;01m.\u001b[39;00m\u001b[38;5;21;01maws\u001b[39;00m\u001b[38;5;21;01m.\u001b[39;00m\u001b[38;5;21;01mstorage\u001b[39;00m \u001b[38;5;28;01mimport\u001b[39;00m RouteS3\n\u001b[1;32m      7\u001b[0m \u001b[38;5;28;01mwith\u001b[39;00m Diagram(\u001b[38;5;124m\"\u001b[39m\u001b[38;5;124mMicroservices\u001b[39m\u001b[38;5;124m\"\u001b[39m, show\u001b[38;5;241m=\u001b[39m\u001b[38;5;28;01mFalse\u001b[39;00m):\n\u001b[1;32m      8\u001b[0m     dns \u001b[38;5;241m=\u001b[39m Route53(\u001b[38;5;124m\"\u001b[39m\u001b[38;5;124mdns\u001b[39m\u001b[38;5;124m\"\u001b[39m)\n",
      "\u001b[0;31mImportError\u001b[0m: cannot import name 'RouteS3' from 'diagrams.aws.storage' (/Users/artursradionovs/Library/Python/3.9/lib/python/site-packages/diagrams/aws/storage.py)"
     ]
    }
   ],
   "source": [
    "from diagrams import Cluster, Diagram\n",
    "from diagrams.aws.compute import ECS\n",
    "from diagrams.aws.database import RDS, ElastiCache\n",
    "from diagrams.aws.network import ELB\n",
    "from diagrams.aws.storage import S3\n",
    "\n",
    "with Diagram(\"Microservices\", show=False):\n",
    "    dns = S3(\"dns\")\n",
    "    lb = ELB(\"lb\")\n",
    "\n",
    "    with Cluster(\"Services\"):\n",
    "        svc_group = [ECS(\"service1\"),\n",
    "                     ECS(\"service2\"),\n",
    "                     ECS(\"service3\")]\n",
    "\n",
    "    with Cluster(\"DB Cluster\"):\n",
    "        db_master = RDS(\"userdb\")\n",
    "        db_master - [RDS(\"userdb ro\")]\n",
    "\n",
    "    memcached = ElastiCache(\"memcached\")\n",
    "\n",
    "    dns >> lb >> svc_group\n",
    "    svc_group >> db_master\n",
    "    svc_group >> memcached"
   ]
  }
 ],
 "metadata": {
  "kernelspec": {
   "display_name": "Python 3",
   "language": "python",
   "name": "python3"
  },
  "language_info": {
   "codemirror_mode": {
    "name": "ipython",
    "version": 3
   },
   "file_extension": ".py",
   "mimetype": "text/x-python",
   "name": "python",
   "nbconvert_exporter": "python",
   "pygments_lexer": "ipython3",
   "version": "3.9.6"
  }
 },
 "nbformat": 4,
 "nbformat_minor": 2
}
